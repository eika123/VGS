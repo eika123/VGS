{
 "cells": [
  {
   "cell_type": "markdown",
   "metadata": {},
   "source": [
    "# Oppsummering\n",
    "\n",
    "## Brøk, desimaltall og prosent\n",
    "\n",
    "\n",
    "## Prosentregning\n",
    "\n",
    "\n",
    "## Vekstfaktor\n",
    "\n",
    "\n",
    "## Formelregning\n",
    "\n",
    "\n",
    "## Geometri\n",
    "\n",
    "\n",
    "## Sannsynlighet\n",
    "\n",
    "\n",
    "## Funksjoner\n",
    "\n",
    "\n",
    "\n",
    "## Økonomi"
   ]
  },
  {
   "cell_type": "markdown",
   "metadata": {},
   "source": [
    "## Brøk, desimaltall og prosent\n",
    "\n",
    "Vi husker at brøk gjøres om til desimaltall ved å dele!\n",
    "\n",
    "### Eksempel:\n",
    "\n",
    "$$ \\frac{3}{4} = 0,75 $$\n",
    "Vi kan utføre delingen for hånd, eller med kalkulator.\n",
    "Under bruker vi Python"
   ]
  },
  {
   "cell_type": "code",
   "execution_count": 1,
   "metadata": {},
   "outputs": [
    {
     "data": {
      "text/plain": [
       "0.75"
      ]
     },
     "execution_count": 1,
     "metadata": {},
     "output_type": "execute_result"
    }
   ],
   "source": [
    "3.0/4"
   ]
  },
  {
   "cell_type": "markdown",
   "metadata": {},
   "source": [
    "For å gjøre dette om til prosent, ganger vi med 100:\n",
    "\n",
    "$$ \\frac{3}{4} = 0,75 = 75\\% $$"
   ]
  },
  {
   "cell_type": "markdown",
   "metadata": {},
   "source": [
    "Å gå fra desimaltall til brøk lar seg gjøre ganske enkelt når desimaltallet ikke fortsetter i\n",
    "det uendelige:\n",
    "\n",
    "\n",
    "$$ 0,684 = \\frac{684}{1000} $$\n",
    "\n",
    "Neste steg er å forkorte brøken så mye som mulig"
   ]
  },
  {
   "cell_type": "code",
   "execution_count": 2,
   "metadata": {},
   "outputs": [
    {
     "data": {
      "text/plain": [
       "171.0"
      ]
     },
     "execution_count": 2,
     "metadata": {},
     "output_type": "execute_result"
    }
   ],
   "source": [
    "684/4.0"
   ]
  },
  {
   "cell_type": "markdown",
   "metadata": {},
   "source": [
    "$$ \\frac{684}{1000} = \\frac{684:4}{1000:4} = \\frac{171}{250} $$\n",
    "\n",
    "Siden nevneren $250 = 50\\cdot 5 = 2\\cdot 5^3,$ og telleren $171$ ikke er delelig på noen av disse faktorene,\n",
    "er brøken forkortet så mye som mulig"
   ]
  },
  {
   "cell_type": "markdown",
   "metadata": {},
   "source": [
    "## Prosentregning"
   ]
  },
  {
   "cell_type": "markdown",
   "metadata": {},
   "source": [
    "### Eksempel\n",
    "I et brød er det 400g sammalt hvetemel og 700g fint hvetemel.\n",
    "\n",
    "Vi neglisjerer de andre ingrediensene\n",
    "\n",
    "Hvor mange prosent av brødet består av sammalt hvetemel?"
   ]
  },
  {
   "cell_type": "code",
   "execution_count": null,
   "metadata": {
    "collapsed": true
   },
   "outputs": [],
   "source": []
  },
  {
   "cell_type": "markdown",
   "metadata": {},
   "source": [
    "Før eksempelet her"
   ]
  },
  {
   "cell_type": "code",
   "execution_count": null,
   "metadata": {
    "collapsed": true
   },
   "outputs": [],
   "source": []
  }
 ],
 "metadata": {
  "anaconda-cloud": {},
  "kernelspec": {
   "display_name": "Python [Root]",
   "language": "python",
   "name": "Python [Root]"
  },
  "language_info": {
   "codemirror_mode": {
    "name": "ipython",
    "version": 3
   },
   "file_extension": ".py",
   "mimetype": "text/x-python",
   "name": "python",
   "nbconvert_exporter": "python",
   "pygments_lexer": "ipython3",
   "version": "3.5.2"
  }
 },
 "nbformat": 4,
 "nbformat_minor": 1
}
